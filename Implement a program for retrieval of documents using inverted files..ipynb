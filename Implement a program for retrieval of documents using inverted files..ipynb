{
 "cells": [
  {
   "cell_type": "code",
   "execution_count": 1,
   "id": "0fe04d99-eeb5-4170-9be6-b2d3d98b3a19",
   "metadata": {},
   "outputs": [],
   "source": [
    "from collections import defaultdict\n",
    "from nltk.tokenize import word_tokenize\n",
    "from nltk.corpus import stopwords\n",
    "import nltk"
   ]
  },
  {
   "cell_type": "code",
   "execution_count": 2,
   "id": "a2b0463f-c410-4550-9b7f-985bf28ec0b4",
   "metadata": {},
   "outputs": [
    {
     "name": "stderr",
     "output_type": "stream",
     "text": [
      "[nltk_data] Downloading package punkt to C:\\Users\\MUBASHIR\n",
      "[nltk_data]     KHAN\\AppData\\Roaming\\nltk_data...\n",
      "[nltk_data]   Package punkt is already up-to-date!\n",
      "[nltk_data] Downloading package stopwords to C:\\Users\\MUBASHIR\n",
      "[nltk_data]     KHAN\\AppData\\Roaming\\nltk_data...\n",
      "[nltk_data]   Package stopwords is already up-to-date!\n"
     ]
    },
    {
     "data": {
      "text/plain": [
       "True"
      ]
     },
     "execution_count": 2,
     "metadata": {},
     "output_type": "execute_result"
    }
   ],
   "source": [
    "# Downloading the necessary datasets for nltk\n",
    "nltk.download('punkt')\n",
    "nltk.download('stopwords')"
   ]
  },
  {
   "cell_type": "code",
   "execution_count": 4,
   "id": "5d77e47f-050b-4e4d-9c3d-53acdb45474b",
   "metadata": {},
   "outputs": [],
   "source": [
    "# Sample documents\n",
    "documents = {\n",
    "    1: \"The quick brown fox jumps over the lazy dog.\",\n",
    "    2: \"Never jump over the lazy dog quickly.\",\n",
    "    3: \"A quick brown dog outpaces a fast fox.\"\n",
    "}"
   ]
  },
  {
   "cell_type": "code",
   "execution_count": 6,
   "id": "c8dde1f7-055c-4c9b-a112-a3a6f46d3494",
   "metadata": {},
   "outputs": [],
   "source": [
    "# Function to tokenize and remove stopwords from text\n",
    "def preprocess(text):\n",
    "    stop_words = set(stopwords.words('english'))\n",
    "    tokens = word_tokenize(text.lower())\n",
    "    return [word for word in tokens if word.isalnum() and word not in stop_words]"
   ]
  },
  {
   "cell_type": "code",
   "execution_count": 7,
   "id": "0c240232-edcc-4985-9621-b7942b945f1d",
   "metadata": {},
   "outputs": [],
   "source": [
    "# Building the inverted index\n",
    "def build_inverted_index(documents):\n",
    "    inverted_index = defaultdict(list)\n",
    "    for doc_id, text in documents.items():\n",
    "        words = preprocess(text)\n",
    "        for word in words:\n",
    "            inverted_index[word].append(doc_id)\n",
    "    return inverted_index"
   ]
  },
  {
   "cell_type": "code",
   "execution_count": 8,
   "id": "da477380-079f-41a6-812f-fe0fd5b3596e",
   "metadata": {},
   "outputs": [],
   "source": [
    "# Function to retrieve documents containing the query term\n",
    "def retrieve_documents(query, inverted_index):\n",
    "    query = preprocess(query)\n",
    "    if query:\n",
    "        word = query[0]\n",
    "        return inverted_index.get(word, [])\n",
    "    else:\n",
    "        return []"
   ]
  },
  {
   "cell_type": "code",
   "execution_count": 9,
   "id": "79301186-4ba5-490f-a897-0383b8938723",
   "metadata": {},
   "outputs": [],
   "source": [
    "# Build the inverted index for the given documents\n",
    "inverted_index = build_inverted_index(documents)"
   ]
  },
  {
   "cell_type": "code",
   "execution_count": 10,
   "id": "003f639a-6f92-483f-ae58-3ddbaed64cd3",
   "metadata": {},
   "outputs": [
    {
     "name": "stdout",
     "output_type": "stream",
     "text": [
      "Inverted Index:\n",
      "quick: [1, 3]\n",
      "brown: [1, 3]\n",
      "fox: [1, 3]\n",
      "jumps: [1]\n",
      "lazy: [1, 2]\n",
      "dog: [1, 2, 3]\n",
      "never: [2]\n",
      "jump: [2]\n",
      "quickly: [2]\n",
      "outpaces: [3]\n",
      "fast: [3]\n"
     ]
    }
   ],
   "source": [
    "# Display the inverted index\n",
    "print(\"Inverted Index:\")\n",
    "for word, doc_ids in inverted_index.items():\n",
    "    print(f\"{word}: {doc_ids}\")"
   ]
  },
  {
   "cell_type": "code",
   "execution_count": 11,
   "id": "695031d0-fe5c-457f-97e8-dfc61d3a793d",
   "metadata": {},
   "outputs": [
    {
     "name": "stdout",
     "output_type": "stream",
     "text": [
      "\n",
      "Documents containing the word 'quick':\n",
      "[1, 3]\n"
     ]
    }
   ],
   "source": [
    "# Query the inverted index\n",
    "query = \"quick\"\n",
    "print(f\"\\nDocuments containing the word '{query}':\")\n",
    "result_docs = retrieve_documents(query, inverted_index)\n",
    "print(result_docs)"
   ]
  }
 ],
 "metadata": {
  "kernelspec": {
   "display_name": "Python 3 (ipykernel)",
   "language": "python",
   "name": "python3"
  },
  "language_info": {
   "codemirror_mode": {
    "name": "ipython",
    "version": 3
   },
   "file_extension": ".py",
   "mimetype": "text/x-python",
   "name": "python",
   "nbconvert_exporter": "python",
   "pygments_lexer": "ipython3",
   "version": "3.12.1"
  }
 },
 "nbformat": 4,
 "nbformat_minor": 5
}
