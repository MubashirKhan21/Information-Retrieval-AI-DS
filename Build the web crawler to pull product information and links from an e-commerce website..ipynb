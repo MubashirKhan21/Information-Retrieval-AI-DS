{
 "cells": [
  {
   "cell_type": "code",
   "execution_count": 1,
   "id": "5f3de7cc-34df-4ebe-abf9-a25463cd76c4",
   "metadata": {},
   "outputs": [
    {
     "name": "stdout",
     "output_type": "stream",
     "text": [
      "Requirement already satisfied: requests in c:\\users\\mubashir khan\\appdata\\local\\programs\\python\\python312\\lib\\site-packages (2.31.0)\n",
      "Requirement already satisfied: beautifulsoup4 in c:\\users\\mubashir khan\\appdata\\local\\programs\\python\\python312\\lib\\site-packages (4.12.2)\n",
      "Requirement already satisfied: charset-normalizer<4,>=2 in c:\\users\\mubashir khan\\appdata\\local\\programs\\python\\python312\\lib\\site-packages (from requests) (3.3.2)\n",
      "Requirement already satisfied: idna<4,>=2.5 in c:\\users\\mubashir khan\\appdata\\local\\programs\\python\\python312\\lib\\site-packages (from requests) (3.4)\n",
      "Requirement already satisfied: urllib3<3,>=1.21.1 in c:\\users\\mubashir khan\\appdata\\local\\programs\\python\\python312\\lib\\site-packages (from requests) (2.1.0)\n",
      "Requirement already satisfied: certifi>=2017.4.17 in c:\\users\\mubashir khan\\appdata\\local\\programs\\python\\python312\\lib\\site-packages (from requests) (2023.11.17)\n",
      "Requirement already satisfied: soupsieve>1.2 in c:\\users\\mubashir khan\\appdata\\local\\programs\\python\\python312\\lib\\site-packages (from beautifulsoup4) (2.5)\n",
      "Note: you may need to restart the kernel to use updated packages.\n"
     ]
    },
    {
     "name": "stderr",
     "output_type": "stream",
     "text": [
      "DEPRECATION: Loading egg at c:\\users\\mubashir khan\\appdata\\local\\programs\\python\\python312\\lib\\site-packages\\spylon_kernel-0+unknown-py3.12.egg is deprecated. pip 24.3 will enforce this behaviour change. A possible replacement is to use pip for package installation. Discussion can be found at https://github.com/pypa/pip/issues/12330\n",
      "\n",
      "[notice] A new release of pip is available: 24.1.1 -> 24.2\n",
      "[notice] To update, run: python.exe -m pip install --upgrade pip\n"
     ]
    }
   ],
   "source": [
    "pip install requests beautifulsoup4"
   ]
  },
  {
   "cell_type": "code",
   "execution_count": 2,
   "id": "685c78fd-1a32-473c-a5d4-93a2b36b3f72",
   "metadata": {},
   "outputs": [
    {
     "name": "stdout",
     "output_type": "stream",
     "text": [
      "{'title': 'A Light in the Attic', 'price': '£51.77', 'link': '../../a-light-in-the-attic_1000/index.html'}\n",
      "{'title': 'Tipping the Velvet', 'price': '£53.74', 'link': '../../tipping-the-velvet_999/index.html'}\n",
      "{'title': 'Soumission', 'price': '£50.10', 'link': '../../soumission_998/index.html'}\n",
      "{'title': 'Sharp Objects', 'price': '£47.82', 'link': '../../sharp-objects_997/index.html'}\n",
      "{'title': 'Sapiens: A Brief History of Humankind', 'price': '£54.23', 'link': '../../sapiens-a-brief-history-of-humankind_996/index.html'}\n",
      "{'title': 'The Requiem Red', 'price': '£22.65', 'link': '../../the-requiem-red_995/index.html'}\n",
      "{'title': 'The Dirty Little Secrets of Getting Your Dream Job', 'price': '£33.34', 'link': '../../the-dirty-little-secrets-of-getting-your-dream-job_994/index.html'}\n",
      "{'title': 'The Coming Woman: A Novel Based on the Life of the Infamous Feminist, Victoria Woodhull', 'price': '£17.93', 'link': '../../the-coming-woman-a-novel-based-on-the-life-of-the-infamous-feminist-victoria-woodhull_993/index.html'}\n",
      "{'title': 'The Boys in the Boat: Nine Americans and Their Epic Quest for Gold at the 1936 Berlin Olympics', 'price': '£22.60', 'link': '../../the-boys-in-the-boat-nine-americans-and-their-epic-quest-for-gold-at-the-1936-berlin-olympics_992/index.html'}\n",
      "{'title': 'The Black Maria', 'price': '£52.15', 'link': '../../the-black-maria_991/index.html'}\n",
      "{'title': 'Starving Hearts (Triangular Trade Trilogy, #1)', 'price': '£13.99', 'link': '../../starving-hearts-triangular-trade-trilogy-1_990/index.html'}\n",
      "{'title': \"Shakespeare's Sonnets\", 'price': '£20.66', 'link': '../../shakespeares-sonnets_989/index.html'}\n",
      "{'title': 'Set Me Free', 'price': '£17.46', 'link': '../../set-me-free_988/index.html'}\n",
      "{'title': \"Scott Pilgrim's Precious Little Life (Scott Pilgrim #1)\", 'price': '£52.29', 'link': '../../scott-pilgrims-precious-little-life-scott-pilgrim-1_987/index.html'}\n",
      "{'title': 'Rip it Up and Start Again', 'price': '£35.02', 'link': '../../rip-it-up-and-start-again_986/index.html'}\n",
      "{'title': 'Our Band Could Be Your Life: Scenes from the American Indie Underground, 1981-1991', 'price': '£57.25', 'link': '../../our-band-could-be-your-life-scenes-from-the-american-indie-underground-1981-1991_985/index.html'}\n",
      "{'title': 'Olio', 'price': '£23.88', 'link': '../../olio_984/index.html'}\n",
      "{'title': 'Mesaerion: The Best Science Fiction Stories 1800-1849', 'price': '£37.59', 'link': '../../mesaerion-the-best-science-fiction-stories-1800-1849_983/index.html'}\n",
      "{'title': 'Libertarianism for Beginners', 'price': '£51.33', 'link': '../../libertarianism-for-beginners_982/index.html'}\n",
      "{'title': \"It's Only the Himalayas\", 'price': '£45.17', 'link': '../../its-only-the-himalayas_981/index.html'}\n"
     ]
    }
   ],
   "source": [
    "import requests\n",
    "from bs4 import BeautifulSoup\n",
    "\n",
    "def scrape_books_to_scrape(url):\n",
    "    response = requests.get(url)\n",
    "    soup = BeautifulSoup(response.content, 'html.parser')\n",
    "\n",
    "    products = []\n",
    "\n",
    "    for product in soup.find_all('article', class_='product_pod'):\n",
    "        title = product.h3.a['title']\n",
    "        price = product.find('p', class_='price_color').text\n",
    "        link = product.h3.a['href']\n",
    "\n",
    "        products.append({\n",
    "            'title': title,\n",
    "            'price': price,\n",
    "            'link': link\n",
    "        })\n",
    "\n",
    "    return products\n",
    "\n",
    "# Example URL to scrape\n",
    "url = 'http://books.toscrape.com/catalogue/category/books_1/index.html'\n",
    "product_info = scrape_books_to_scrape(url)\n",
    "\n",
    "# Print the scraped product information\n",
    "for product in product_info:\n",
    "    print(product)"
   ]
  }
 ],
 "metadata": {
  "kernelspec": {
   "display_name": "Python 3 (ipykernel)",
   "language": "python",
   "name": "python3"
  },
  "language_info": {
   "codemirror_mode": {
    "name": "ipython",
    "version": 3
   },
   "file_extension": ".py",
   "mimetype": "text/x-python",
   "name": "python",
   "nbconvert_exporter": "python",
   "pygments_lexer": "ipython3",
   "version": "3.12.1"
  }
 },
 "nbformat": 4,
 "nbformat_minor": 5
}
