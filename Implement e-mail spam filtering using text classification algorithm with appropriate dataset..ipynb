{
 "cells": [
  {
   "cell_type": "code",
   "execution_count": 3,
   "id": "19a98d54-7bc6-41e5-bec0-6df777bdf1f6",
   "metadata": {},
   "outputs": [
    {
     "name": "stdout",
     "output_type": "stream",
     "text": [
      "Note: you may need to restart the kernel to use updated packages.\n",
      "Collecting wordcloud\n",
      "  Downloading wordcloud-1.9.3-cp312-cp312-win_amd64.whl.metadata (3.5 kB)\n",
      "Requirement already satisfied: numpy>=1.6.1 in c:\\users\\mubashir khan\\appdata\\local\\programs\\python\\python312\\lib\\site-packages (from wordcloud) (1.26.3)\n",
      "Requirement already satisfied: pillow in c:\\users\\mubashir khan\\appdata\\local\\programs\\python\\python312\\lib\\site-packages (from wordcloud) (10.2.0)\n",
      "Requirement already satisfied: matplotlib in c:\\users\\mubashir khan\\appdata\\local\\programs\\python\\python312\\lib\\site-packages (from wordcloud) (3.8.2)\n",
      "Requirement already satisfied: contourpy>=1.0.1 in c:\\users\\mubashir khan\\appdata\\local\\programs\\python\\python312\\lib\\site-packages (from matplotlib->wordcloud) (1.2.0)\n",
      "Requirement already satisfied: cycler>=0.10 in c:\\users\\mubashir khan\\appdata\\local\\programs\\python\\python312\\lib\\site-packages (from matplotlib->wordcloud) (0.12.1)\n",
      "Requirement already satisfied: fonttools>=4.22.0 in c:\\users\\mubashir khan\\appdata\\local\\programs\\python\\python312\\lib\\site-packages (from matplotlib->wordcloud) (4.47.2)\n",
      "Requirement already satisfied: kiwisolver>=1.3.1 in c:\\users\\mubashir khan\\appdata\\local\\programs\\python\\python312\\lib\\site-packages (from matplotlib->wordcloud) (1.4.5)\n",
      "Requirement already satisfied: packaging>=20.0 in c:\\users\\mubashir khan\\appdata\\local\\programs\\python\\python312\\lib\\site-packages (from matplotlib->wordcloud) (23.2)\n",
      "Requirement already satisfied: pyparsing>=2.3.1 in c:\\users\\mubashir khan\\appdata\\local\\programs\\python\\python312\\lib\\site-packages (from matplotlib->wordcloud) (3.1.1)\n",
      "Requirement already satisfied: python-dateutil>=2.7 in c:\\users\\mubashir khan\\appdata\\local\\programs\\python\\python312\\lib\\site-packages (from matplotlib->wordcloud) (2.8.2)\n",
      "Requirement already satisfied: six>=1.5 in c:\\users\\mubashir khan\\appdata\\local\\programs\\python\\python312\\lib\\site-packages (from python-dateutil>=2.7->matplotlib->wordcloud) (1.16.0)\n",
      "Downloading wordcloud-1.9.3-cp312-cp312-win_amd64.whl (301 kB)\n",
      "   ---------------------------------------- 0.0/301.4 kB ? eta -:--:--\n",
      "   ------------------------ --------------- 184.3/301.4 kB 3.7 MB/s eta 0:00:01\n",
      "   ---------------------------------------- 301.4/301.4 kB 4.6 MB/s eta 0:00:00\n",
      "Installing collected packages: wordcloud\n",
      "Successfully installed wordcloud-1.9.3\n"
     ]
    },
    {
     "name": "stderr",
     "output_type": "stream",
     "text": [
      "DEPRECATION: Loading egg at c:\\users\\mubashir khan\\appdata\\local\\programs\\python\\python312\\lib\\site-packages\\spylon_kernel-0+unknown-py3.12.egg is deprecated. pip 24.3 will enforce this behaviour change. A possible replacement is to use pip for package installation. Discussion can be found at https://github.com/pypa/pip/issues/12330\n",
      "\n",
      "[notice] A new release of pip is available: 24.1.1 -> 24.2\n",
      "[notice] To update, run: python.exe -m pip install --upgrade pip\n"
     ]
    }
   ],
   "source": [
    "pip install wordcloud"
   ]
  },
  {
   "cell_type": "code",
   "execution_count": 14,
   "id": "3b692389-f1de-4ee9-b235-a328410e312b",
   "metadata": {},
   "outputs": [
    {
     "name": "stdout",
     "output_type": "stream",
     "text": [
      "                                               title  \\\n",
      "0                          ?? the secrets to SUCCESS   \n",
      "1                    ?? You Earned 500 GCLoot Points   \n",
      "2                         ?? Your GitHub launch code   \n",
      "3  [The Virtual Reward Center] Re: ** Clarifications   \n",
      "4  10-1 MLB Expert Inside, Plus Everything You Ne...   \n",
      "\n",
      "                                                text      type  \n",
      "0  Hi James,\\n\\nHave you claim your complimentary...      spam  \n",
      "1  \\nalt_text\\nCongratulations, you just earned\\n...  not spam  \n",
      "2  Here's your GitHub launch code, @Mortyj420!\\n ...  not spam  \n",
      "3  Hello,\\n \\nThank you for contacting the Virtua...  not spam  \n",
      "4  Hey Prachanda Rawal,\\n\\nToday's newsletter is ...      spam  \n",
      "Columns in the dataset: Index(['title', 'text', 'type'], dtype='object')\n",
      "Accuracy: 0.71\n",
      "Confusion Matrix:\n",
      " [[11  0]\n",
      " [ 5  1]]\n"
     ]
    }
   ],
   "source": [
    "import pandas as pd\n",
    "from sklearn.model_selection import train_test_split\n",
    "from sklearn.feature_extraction.text import CountVectorizer\n",
    "from sklearn.naive_bayes import MultinomialNB\n",
    "from sklearn.metrics import accuracy_score, confusion_matrix\n",
    "\n",
    "# Load the dataset\n",
    "data = pd.read_csv(r'C:\\Users\\MUBASHIR KHAN\\Desktop\\jupyter\\IR\\email_spam.csv')\n",
    "\n",
    "# Display the first few rows and columns to understand the structure\n",
    "print(data.head())\n",
    "print(\"Columns in the dataset:\", data.columns)\n",
    "\n",
    "# Strip whitespace from column names\n",
    "data.columns = data.columns.str.strip()\n",
    "\n",
    "# Split data into features and labels\n",
    "X = data['text']  # The content of the emails\n",
    "y = data['type']   # Assuming 'type' is the column indicating spam/ham\n",
    "\n",
    "# Split the data into training and testing sets\n",
    "X_train, X_test, y_train, y_test = train_test_split(X, y, test_size=0.2, random_state=42)\n",
    "\n",
    "# Vectorization of the text data\n",
    "vectorizer = CountVectorizer()\n",
    "X_train_vectorized = vectorizer.fit_transform(X_train)\n",
    "X_test_vectorized = vectorizer.transform(X_test)\n",
    "\n",
    "# Train the Naive Bayes model\n",
    "model = MultinomialNB()\n",
    "model.fit(X_train_vectorized, y_train)\n",
    "\n",
    "# Make predictions\n",
    "y_pred = model.predict(X_test_vectorized)\n",
    "\n",
    "# Evaluate the model\n",
    "accuracy = accuracy_score(y_test, y_pred)\n",
    "conf_matrix = confusion_matrix(y_test, y_pred)\n",
    "\n",
    "# Display results\n",
    "print(f'Accuracy: {accuracy:.2f}')\n",
    "print('Confusion Matrix:\\n', conf_matrix)"
   ]
  }
 ],
 "metadata": {
  "kernelspec": {
   "display_name": "Python 3 (ipykernel)",
   "language": "python",
   "name": "python3"
  },
  "language_info": {
   "codemirror_mode": {
    "name": "ipython",
    "version": 3
   },
   "file_extension": ".py",
   "mimetype": "text/x-python",
   "name": "python",
   "nbconvert_exporter": "python",
   "pygments_lexer": "ipython3",
   "version": "3.12.1"
  }
 },
 "nbformat": 4,
 "nbformat_minor": 5
}
