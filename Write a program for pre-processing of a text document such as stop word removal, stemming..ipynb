{
 "cells": [
  {
   "cell_type": "code",
   "execution_count": 1,
   "id": "3b0a3d9c-24da-45cd-b39c-d32ae39048bb",
   "metadata": {},
   "outputs": [
    {
     "name": "stdout",
     "output_type": "stream",
     "text": [
      "Requirement already satisfied: nltk in c:\\users\\mubashir khan\\appdata\\local\\programs\\python\\python312\\lib\\site-packages (3.8.1)\n",
      "Requirement already satisfied: click in c:\\users\\mubashir khan\\appdata\\local\\programs\\python\\python312\\lib\\site-packages (from nltk) (8.1.7)\n",
      "Requirement already satisfied: joblib in c:\\users\\mubashir khan\\appdata\\local\\programs\\python\\python312\\lib\\site-packages (from nltk) (1.3.2)\n",
      "Requirement already satisfied: regex>=2021.8.3 in c:\\users\\mubashir khan\\appdata\\local\\programs\\python\\python312\\lib\\site-packages (from nltk) (2023.12.25)\n",
      "Requirement already satisfied: tqdm in c:\\users\\mubashir khan\\appdata\\local\\programs\\python\\python312\\lib\\site-packages (from nltk) (4.66.1)\n",
      "Requirement already satisfied: colorama in c:\\users\\mubashir khan\\appdata\\local\\programs\\python\\python312\\lib\\site-packages (from click->nltk) (0.4.6)\n",
      "Note: you may need to restart the kernel to use updated packages.\n"
     ]
    },
    {
     "name": "stderr",
     "output_type": "stream",
     "text": [
      "DEPRECATION: Loading egg at c:\\users\\mubashir khan\\appdata\\local\\programs\\python\\python312\\lib\\site-packages\\spylon_kernel-0+unknown-py3.12.egg is deprecated. pip 24.3 will enforce this behaviour change. A possible replacement is to use pip for package installation. Discussion can be found at https://github.com/pypa/pip/issues/12330\n",
      "\n",
      "[notice] A new release of pip is available: 24.1.1 -> 24.2\n",
      "[notice] To update, run: python.exe -m pip install --upgrade pip\n"
     ]
    }
   ],
   "source": [
    "pip install nltk"
   ]
  },
  {
   "cell_type": "code",
   "execution_count": 9,
   "id": "cf883d8d-c38c-4e3c-9362-9303bcfeafb5",
   "metadata": {},
   "outputs": [],
   "source": [
    "# Importing necessary libraries\n",
    "import nltk\n",
    "from nltk.corpus import stopwords\n",
    "from nltk.tokenize import word_tokenize\n",
    "from nltk.stem import PorterStemmer"
   ]
  },
  {
   "cell_type": "code",
   "execution_count": 10,
   "id": "ff740e41-57c3-4db7-a355-2fd44b5e42d2",
   "metadata": {},
   "outputs": [
    {
     "name": "stderr",
     "output_type": "stream",
     "text": [
      "[nltk_data] Downloading package punkt to C:\\Users\\MUBASHIR\n",
      "[nltk_data]     KHAN\\AppData\\Roaming\\nltk_data...\n",
      "[nltk_data]   Package punkt is already up-to-date!\n",
      "[nltk_data] Downloading package stopwords to C:\\Users\\MUBASHIR\n",
      "[nltk_data]     KHAN\\AppData\\Roaming\\nltk_data...\n",
      "[nltk_data]   Package stopwords is already up-to-date!\n"
     ]
    },
    {
     "data": {
      "text/plain": [
       "True"
      ]
     },
     "execution_count": 10,
     "metadata": {},
     "output_type": "execute_result"
    }
   ],
   "source": [
    "# Downloading the necessary datasets for nltk\n",
    "nltk.download('punkt')\n",
    "nltk.download('stopwords')"
   ]
  },
  {
   "cell_type": "code",
   "execution_count": 4,
   "id": "4580401f-cbf8-4459-aa81-8d916e721993",
   "metadata": {},
   "outputs": [
    {
     "name": "stdout",
     "output_type": "stream",
     "text": [
      "['i', 'me', 'my', 'myself', 'we', 'our', 'ours', 'ourselves', 'you', \"you're\", \"you've\", \"you'll\", \"you'd\", 'your', 'yours', 'yourself', 'yourselves', 'he', 'him', 'his', 'himself', 'she', \"she's\", 'her', 'hers', 'herself', 'it', \"it's\", 'its', 'itself', 'they', 'them', 'their', 'theirs', 'themselves', 'what', 'which', 'who', 'whom', 'this', 'that', \"that'll\", 'these', 'those', 'am', 'is', 'are', 'was', 'were', 'be', 'been', 'being', 'have', 'has', 'had', 'having', 'do', 'does', 'did', 'doing', 'a', 'an', 'the', 'and', 'but', 'if', 'or', 'because', 'as', 'until', 'while', 'of', 'at', 'by', 'for', 'with', 'about', 'against', 'between', 'into', 'through', 'during', 'before', 'after', 'above', 'below', 'to', 'from', 'up', 'down', 'in', 'out', 'on', 'off', 'over', 'under', 'again', 'further', 'then', 'once', 'here', 'there', 'when', 'where', 'why', 'how', 'all', 'any', 'both', 'each', 'few', 'more', 'most', 'other', 'some', 'such', 'no', 'nor', 'not', 'only', 'own', 'same', 'so', 'than', 'too', 'very', 's', 't', 'can', 'will', 'just', 'don', \"don't\", 'should', \"should've\", 'now', 'd', 'll', 'm', 'o', 're', 've', 'y', 'ain', 'aren', \"aren't\", 'couldn', \"couldn't\", 'didn', \"didn't\", 'doesn', \"doesn't\", 'hadn', \"hadn't\", 'hasn', \"hasn't\", 'haven', \"haven't\", 'isn', \"isn't\", 'ma', 'mightn', \"mightn't\", 'mustn', \"mustn't\", 'needn', \"needn't\", 'shan', \"shan't\", 'shouldn', \"shouldn't\", 'wasn', \"wasn't\", 'weren', \"weren't\", 'won', \"won't\", 'wouldn', \"wouldn't\"]\n"
     ]
    },
    {
     "name": "stderr",
     "output_type": "stream",
     "text": [
      "[nltk_data] Downloading package stopwords to C:\\Users\\MUBASHIR\n",
      "[nltk_data]     KHAN\\AppData\\Roaming\\nltk_data...\n",
      "[nltk_data]   Package stopwords is already up-to-date!\n"
     ]
    }
   ],
   "source": [
    "nltk.download('stopwords')\n",
    "print(stopwords.words('english'))"
   ]
  },
  {
   "cell_type": "code",
   "execution_count": 11,
   "id": "01bcab63-33fc-44c3-abe7-af4f64c91bdc",
   "metadata": {},
   "outputs": [],
   "source": [
    "# Sample text document\n",
    "text = \"\"\"Text preprocessing is an essential step in the data processing pipeline of natural language processing (NLP) tasks. \n",
    "It involves the cleaning and transforming of raw text into a format that can be easily understood by machine learning algorithms.\"\"\""
   ]
  },
  {
   "cell_type": "code",
   "execution_count": 12,
   "id": "038a541e-8913-47e1-91ad-859063326800",
   "metadata": {},
   "outputs": [],
   "source": [
    "# Tokenization: Splitting the text into words\n",
    "tokens = word_tokenize(text)"
   ]
  },
  {
   "cell_type": "code",
   "execution_count": 13,
   "id": "80ac5eb6-7e5a-4076-bdf2-a695a3328c0a",
   "metadata": {},
   "outputs": [],
   "source": [
    "# Converting all tokens to lowercase\n",
    "tokens = [word.lower() for word in tokens]"
   ]
  },
  {
   "cell_type": "code",
   "execution_count": 14,
   "id": "cab14c61-9121-4588-856d-385b5321ba31",
   "metadata": {},
   "outputs": [],
   "source": [
    "# Stopword removal\n",
    "stop_words = set(stopwords.words('english'))\n",
    "filtered_tokens = [word for word in tokens if word.isalnum() and word not in stop_words]"
   ]
  },
  {
   "cell_type": "code",
   "execution_count": 15,
   "id": "78022f22-6267-4a1b-8f7f-904a5a0019fa",
   "metadata": {},
   "outputs": [],
   "source": [
    "# Stemming: Reducing words to their root form\n",
    "stemmer = PorterStemmer()\n",
    "stemmed_tokens = [stemmer.stem(word) for word in filtered_tokens]"
   ]
  },
  {
   "cell_type": "code",
   "execution_count": 16,
   "id": "b9cd3479-9a31-4e63-9946-bd35e52cae92",
   "metadata": {},
   "outputs": [
    {
     "name": "stdout",
     "output_type": "stream",
     "text": [
      "Original Tokens:  ['text', 'preprocessing', 'is', 'an', 'essential', 'step', 'in', 'the', 'data', 'processing', 'pipeline', 'of', 'natural', 'language', 'processing', '(', 'nlp', ')', 'tasks', '.', 'it', 'involves', 'the', 'cleaning', 'and', 'transforming', 'of', 'raw', 'text', 'into', 'a', 'format', 'that', 'can', 'be', 'easily', 'understood', 'by', 'machine', 'learning', 'algorithms', '.']\n",
      "Filtered Tokens (Stopwords removed):  ['text', 'preprocessing', 'essential', 'step', 'data', 'processing', 'pipeline', 'natural', 'language', 'processing', 'nlp', 'tasks', 'involves', 'cleaning', 'transforming', 'raw', 'text', 'format', 'easily', 'understood', 'machine', 'learning', 'algorithms']\n",
      "Stemmed Tokens:  ['text', 'preprocess', 'essenti', 'step', 'data', 'process', 'pipelin', 'natur', 'languag', 'process', 'nlp', 'task', 'involv', 'clean', 'transform', 'raw', 'text', 'format', 'easili', 'understood', 'machin', 'learn', 'algorithm']\n"
     ]
    }
   ],
   "source": [
    "# Displaying results\n",
    "print(\"Original Tokens: \", tokens)\n",
    "print(\"Filtered Tokens (Stopwords removed): \", filtered_tokens)\n",
    "print(\"Stemmed Tokens: \", stemmed_tokens)"
   ]
  }
 ],
 "metadata": {
  "kernelspec": {
   "display_name": "Python 3 (ipykernel)",
   "language": "python",
   "name": "python3"
  },
  "language_info": {
   "codemirror_mode": {
    "name": "ipython",
    "version": 3
   },
   "file_extension": ".py",
   "mimetype": "text/x-python",
   "name": "python",
   "nbconvert_exporter": "python",
   "pygments_lexer": "ipython3",
   "version": "3.12.1"
  }
 },
 "nbformat": 4,
 "nbformat_minor": 5
}
